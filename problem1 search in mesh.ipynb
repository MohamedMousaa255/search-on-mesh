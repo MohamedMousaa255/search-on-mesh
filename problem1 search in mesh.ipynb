{
 "cells": [
  {
   "cell_type": "code",
   "execution_count": 126,
   "id": "3df7a246",
   "metadata": {},
   "outputs": [],
   "source": [
    "two_D_mesh=[[42,53,16,8],[41,9,11,67],[29,13,21,5],[10,22,49,3]]\n",
    "two_D_mesh_container=[[0,0,0,0],[0,0,0,0],[0,0,0,0],[0,0,0,0]]\n",
    "n=len(two_D_mesh)*2-1\n",
    "import math\n",
    "import pandas as pd\n",
    "key=49\n",
    "x=0\n",
    "flage=False\n",
    "index=[]"
   ]
  },
  {
   "cell_type": "code",
   "execution_count": 127,
   "id": "d7a1c107",
   "metadata": {},
   "outputs": [
    {
     "name": "stdout",
     "output_type": "stream",
     "text": [
      "    0  1  2  3\n",
      "0  49  0  0  0\n",
      "1   0  0  0  0\n",
      "2   0  0  0  0\n",
      "3   0  0  0  0\n",
      "**********\n",
      "    0  1  2  3\n",
      "0  49  0  0  0\n",
      "1  49  0  0  0\n",
      "2   0  0  0  0\n",
      "3   0  0  0  0\n",
      "**********\n",
      "    0   1  2  3\n",
      "0  49  49  0  0\n",
      "1  49  49  0  0\n",
      "2   0   0  0  0\n",
      "3   0   0  0  0\n",
      "**********\n",
      "    0   1  2  3\n",
      "0  49  49  0  0\n",
      "1  49  49  0  0\n",
      "2  49  49  0  0\n",
      "3   0   0  0  0\n",
      "**********\n",
      "    0   1   2  3\n",
      "0  49  49  49  0\n",
      "1  49  49  49  0\n",
      "2  49  49  49  0\n",
      "3   0   0   0  0\n",
      "**********\n",
      "    0   1   2  3\n",
      "0  49  49  49  0\n",
      "1  49  49  49  0\n",
      "2  49  49  49  0\n",
      "3  49  49  49  0\n",
      "**********\n",
      "    0   1   2   3\n",
      "0  49  49  49  49\n",
      "1  49  49  49  49\n",
      "2  49  49  49  49\n",
      "3  49  49  49  49\n",
      "**********\n"
     ]
    }
   ],
   "source": [
    "##delivery the key by broodcaste to all processors \n",
    "for i in range(n):\n",
    "    x=int(i/2)  \n",
    "    if( i %2) == 0:\n",
    "        for j in range(x+1):\n",
    "            two_D_mesh_container[j][x]=key\n",
    "        df = pd.DataFrame(two_D_mesh_container)\n",
    "        print(df)\n",
    "        print(\"**********\")\n",
    "    else:\n",
    "        for m in range(x+1):\n",
    "             two_D_mesh_container[x+1][m]=key\n",
    "        df = pd.DataFrame(two_D_mesh_container)\n",
    "        print(df)\n",
    "        print(\"**********\")\n",
    " "
   ]
  },
  {
   "cell_type": "code",
   "execution_count": 128,
   "id": "8edcb008",
   "metadata": {},
   "outputs": [
    {
     "name": "stdout",
     "output_type": "stream",
     "text": [
      "    0   1   2   3\n",
      "0  no  49  49  49\n",
      "1  49  49  49  49\n",
      "2  49  49  49  49\n",
      "3  49  49  49  49\n",
      "**********\n",
      "    0   1   2   3\n",
      "0  no  49  49  49\n",
      "1  no  49  49  49\n",
      "2  49  49  49  49\n",
      "3  49  49  49  49\n",
      "**********\n",
      "    0   1   2   3\n",
      "0  no  no  49  49\n",
      "1  no  no  49  49\n",
      "2  49  49  49  49\n",
      "3  49  49  49  49\n",
      "**********\n",
      "    0   1   2   3\n",
      "0  no  no  49  49\n",
      "1  no  no  49  49\n",
      "2  no  no  49  49\n",
      "3  49  49  49  49\n",
      "**********\n",
      "    0   1   2   3\n",
      "0  no  no  no  49\n",
      "1  no  no  no  49\n",
      "2  no  no  no  49\n",
      "3  49  49  49  49\n",
      "**********\n",
      "    0   1    2   3\n",
      "0  no  no   no  49\n",
      "1  no  no   no  49\n",
      "2  no  no   no  49\n",
      "3  no  no  yes  49\n",
      "**********\n",
      "    0   1    2   3\n",
      "0  no  no   no  no\n",
      "1  no  no   no  no\n",
      "2  no  no   no  no\n",
      "3  no  no  yes  no\n",
      "**********\n"
     ]
    }
   ],
   "source": [
    "####coolect the result by broodcaste from all processors\n",
    "for i in range(n):\n",
    "    x=int(i/2)  \n",
    "    if( i %2) == 0:\n",
    "        for j in range(x+1):\n",
    "            if two_D_mesh_container[j][x]==two_D_mesh[j][x]:\n",
    "                two_D_mesh_container[j][x]=\"yes\"\n",
    "                flage=True\n",
    "                index.append(x+1)\n",
    "                index.append(m)\n",
    "            else:\n",
    "                two_D_mesh_container[j][x]=\"no\"\n",
    "        df = pd.DataFrame(two_D_mesh_container)\n",
    "        print(df)\n",
    "        print(\"**********\")\n",
    "    else:\n",
    "        for m in range(x+1):\n",
    "            if two_D_mesh_container[x+1][m]==two_D_mesh[x+1][m]:\n",
    "                two_D_mesh_container[x+1][m]=\"yes\"\n",
    "                flage=True\n",
    "                index.append(x+1)\n",
    "                index.append(m)\n",
    "            else:\n",
    "                two_D_mesh_container[x+1][m]=\"no\"\n",
    "        df = pd.DataFrame(two_D_mesh_container)\n",
    "        print(df)\n",
    "        print(\"**********\")\n"
   ]
  },
  {
   "cell_type": "code",
   "execution_count": 129,
   "id": "c419b122",
   "metadata": {},
   "outputs": [
    {
     "name": "stdout",
     "output_type": "stream",
     "text": [
      "the index is \n",
      "[3, 2]\n"
     ]
    }
   ],
   "source": [
    "if(flage==True):\n",
    "    print(\"the index is \")\n",
    "    print(index)"
   ]
  }
 ],
 "metadata": {
  "kernelspec": {
   "display_name": "Python 3 (ipykernel)",
   "language": "python",
   "name": "python3"
  },
  "language_info": {
   "codemirror_mode": {
    "name": "ipython",
    "version": 3
   },
   "file_extension": ".py",
   "mimetype": "text/x-python",
   "name": "python",
   "nbconvert_exporter": "python",
   "pygments_lexer": "ipython3",
   "version": "3.9.12"
  }
 },
 "nbformat": 4,
 "nbformat_minor": 5
}
